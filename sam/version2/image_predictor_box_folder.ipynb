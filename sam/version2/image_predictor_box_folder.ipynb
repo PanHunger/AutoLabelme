{
 "cells": [
  {
   "cell_type": "code",
   "execution_count": 1,
   "metadata": {},
   "outputs": [
    {
     "name": "stdout",
     "output_type": "stream",
     "text": [
      "using device: cuda\n"
     ]
    }
   ],
   "source": [
    "import os\n",
    "# if using Apple MPS, fall back to CPU for unsupported ops\n",
    "os.environ[\"PYTORCH_ENABLE_MPS_FALLBACK\"] = \"1\"\n",
    "import numpy as np\n",
    "import torch\n",
    "import matplotlib.pyplot as plt\n",
    "from PIL import Image\n",
    "import cv2\n",
    "from tqdm import tqdm\n",
    "\n",
    "\n",
    "# select the device for computation\n",
    "if torch.cuda.is_available():\n",
    "    device = torch.device(\"cuda\")\n",
    "elif torch.backends.mps.is_available():\n",
    "    device = torch.device(\"mps\")\n",
    "else:\n",
    "    device = torch.device(\"cpu\")\n",
    "print(f\"using device: {device}\")\n",
    "\n",
    "if device.type == \"cuda\":\n",
    "    # use bfloat16 for the entire notebook\n",
    "    torch.autocast(\"cuda\", dtype=torch.bfloat16).__enter__()\n",
    "    # turn on tfloat32 for Ampere GPUs (https://pytorch.org/docs/stable/notes/cuda.html#tensorfloat-32-tf32-on-ampere-devices)\n",
    "    if torch.cuda.get_device_properties(0).major >= 8:\n",
    "        torch.backends.cuda.matmul.allow_tf32 = True\n",
    "        torch.backends.cudnn.allow_tf32 = True\n",
    "elif device.type == \"mps\":\n",
    "    print(\n",
    "        \"\\nSupport for MPS devices is preliminary. SAM 2 is trained with CUDA and might \"\n",
    "        \"give numerically different outputs and sometimes degraded performance on MPS. \"\n",
    "        \"See e.g. https://github.com/pytorch/pytorch/issues/84936 for a discussion.\"\n",
    "    )"
   ]
  },
  {
   "cell_type": "code",
   "execution_count": 2,
   "metadata": {},
   "outputs": [],
   "source": [
    "from sam2.build_sam import build_sam2\n",
    "from sam2.sam2_image_predictor import SAM2ImagePredictor\n",
    "\n",
    "sam2_checkpoint = \"../checkpoints/sam2.1_hiera_large.pt\"\n",
    "model_cfg = \"configs/sam2.1/sam2.1_hiera_l.yaml\"\n",
    "\n",
    "sam2_model = build_sam2(model_cfg, sam2_checkpoint, device=device)\n",
    "\n",
    "predictor = SAM2ImagePredictor(sam2_model)"
   ]
  },
  {
   "cell_type": "code",
   "execution_count": 3,
   "metadata": {},
   "outputs": [
    {
     "name": "stdout",
     "output_type": "stream",
     "text": [
      "current directory: e:\\PycharmProjects\\1-BigModel\\sam2-main\\notebooks\n",
      "project root directory: e:\\PycharmProjects\\1-BigModel\\sam2-main\n",
      "sys.path: ['d:\\\\SoftWare\\\\Anaconda\\\\envs\\\\auto-labelme\\\\python310.zip', 'd:\\\\SoftWare\\\\Anaconda\\\\envs\\\\auto-labelme\\\\DLLs', 'd:\\\\SoftWare\\\\Anaconda\\\\envs\\\\auto-labelme\\\\lib', 'd:\\\\SoftWare\\\\Anaconda\\\\envs\\\\auto-labelme', '', 'C:\\\\Users\\\\ZealousQun\\\\AppData\\\\Roaming\\\\Python\\\\Python310\\\\site-packages', 'C:\\\\Users\\\\ZealousQun\\\\AppData\\\\Roaming\\\\Python\\\\Python310\\\\site-packages\\\\win32', 'C:\\\\Users\\\\ZealousQun\\\\AppData\\\\Roaming\\\\Python\\\\Python310\\\\site-packages\\\\win32\\\\lib', 'C:\\\\Users\\\\ZealousQun\\\\AppData\\\\Roaming\\\\Python\\\\Python310\\\\site-packages\\\\Pythonwin', 'd:\\\\SoftWare\\\\Anaconda\\\\envs\\\\auto-labelme\\\\lib\\\\site-packages', 'e:\\\\PycharmProjects\\\\1-BigModel\\\\sam2-main']\n"
     ]
    }
   ],
   "source": [
    "import sys\n",
    "import os\n",
    "# 获取当前 Notebook 文件的目录路径\n",
    "current_dir = os.path.dirname(os.path.abspath(\"__file__\"))\n",
    "#假设 switch nerf 目录在项目根目录下，获取项目根目录\n",
    "project_root = os.path.abspath(os.path.join(current_dir, \"..\"))\n",
    "#将项目根目录添加到 sys.path 中\n",
    "if project_root not in sys.path:\n",
    "    sys.path.append(project_root)\n",
    "#打印路径和目录内容以确保正确性\n",
    "print(\"current directory:\",current_dir)\n",
    "print(\"project root directory:\",project_root)\n",
    "print(\"sys.path:\",sys.path)\n",
    "\n",
    "from utils_pan import get_box_from_labelme_json, load_json, update_json_with_polygon, save_json"
   ]
  },
  {
   "cell_type": "code",
   "execution_count": 4,
   "metadata": {},
   "outputs": [
    {
     "name": "stderr",
     "output_type": "stream",
     "text": [
      "Processing: 100%|██████████| 898/898 [01:37<00:00,  9.22it/s]\n"
     ]
    }
   ],
   "source": [
    "root_path = 'E:\\\\PycharmProjects\\\\yolov8_datasets\\\\ChuangDian\\\\20250108_plastic_bottle\\\\0111\\\\updated_json'\n",
    "label = 'pingti'\n",
    "\n",
    "files = os.listdir(root_path)\n",
    "for file in tqdm(files, desc='Processing'):\n",
    "    if file.endswith('.bmp'):\n",
    "        img = Image.open(os.path.join(root_path, file))\n",
    "        img = np.array(img.convert(\"RGB\"))\n",
    "        json_path = os.path.join(root_path, file.replace('.bmp', '.json'))\n",
    "        input_box = get_box_from_labelme_json(json_path, label, shape_type='polygon')\n",
    "        \n",
    "        predictor.set_image(img)\n",
    "        masks, scores, _ = predictor.predict(\n",
    "        point_coords=None, point_labels=None, box=input_box[None, :], multimask_output=False)\n",
    "        \n",
    "        # 转换为 8 位无符号整数类型\n",
    "        mask = masks[0].astype(np.uint8) * 255  # 将前景变为255，背景为0\n",
    "\n",
    "        # 查找轮廓\n",
    "        contours, _ = cv2.findContours(mask, cv2.RETR_EXTERNAL, cv2.CHAIN_APPROX_SIMPLE)\n",
    "\n",
    "        # 选择最大的轮廓作为前景的边缘\n",
    "        # 如果有多个轮廓，可以选择面积最大的轮廓作为主体\n",
    "        max_contour = max(contours, key=cv2.contourArea)\n",
    "\n",
    "        # 获取该轮廓的多边形逼近\n",
    "        epsilon = 0.001 * cv2.arcLength(max_contour, True)  # 误差范围，可以调整\n",
    "        polygon = cv2.approxPolyDP(max_contour, epsilon, True)\n",
    "        \n",
    "        # 保存更新后的 JSON 文件\n",
    "        json_data = load_json(json_path)\n",
    "        update_json_with_polygon(json_data, label, polygon)\n",
    "        save_json(json_data, json_path)\n"
   ]
  }
 ],
 "metadata": {
  "kernelspec": {
   "display_name": "auto-labelme",
   "language": "python",
   "name": "python3"
  },
  "language_info": {
   "codemirror_mode": {
    "name": "ipython",
    "version": 3
   },
   "file_extension": ".py",
   "mimetype": "text/x-python",
   "name": "python",
   "nbconvert_exporter": "python",
   "pygments_lexer": "ipython3",
   "version": "3.10.16"
  }
 },
 "nbformat": 4,
 "nbformat_minor": 2
}
